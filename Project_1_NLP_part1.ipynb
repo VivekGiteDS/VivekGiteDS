{
  "nbformat": 4,
  "nbformat_minor": 0,
  "metadata": {
    "colab": {
      "name": "Project_1_NLP_part1.ipynb",
      "provenance": [],
      "collapsed_sections": []
    },
    "kernelspec": {
      "name": "python3",
      "display_name": "Python 3"
    },
    "language_info": {
      "name": "python"
    }
  },
  "cells": [
    {
      "cell_type": "markdown",
      "metadata": {
        "id": "TEKXqbh87PzN"
      },
      "source": [
        "# Project 1:NLP\n",
        "\n",
        "## Part 1\n",
        "\n",
        "• DOMAIN: \n",
        "\n",
        "Digital content management\n",
        "\n",
        "• CONTEXT: \n",
        "\n",
        "Classification is probably the most popular task that you would  deal with in real life. Text in the form of blogs, posts, articles, etc. is written every second. It is a challenge to predict the information about the writer without knowing about him/her. We are going to \n",
        "create a classifier that predicts multiple features of the author of a given text. We have designed it as a Multi label classification problem.\n",
        "\n",
        "• DATA DESCRIPTION: \n",
        "\n",
        "Over 600,000 posts from more than 19 thousand bloggers The Blog Authorship Corpus consists of the collected posts of 19,320 bloggers gathered from blogger.com in August 2004. The corpus incorporates a total of 681,288 posts and over 140 million words - or approximately 35 posts and 7250 words per person. Each blog is presented as a separate file, the name of which indicates a blogger id# and the blogger’s self-provided gender, age, industry, and astrological sign. (All are labelled for gender and age but for many,industry and/or sign is marked as unknown.) All bloggers included in the corpus fall into one of three age groups:\n",
        "\n",
        "• 8240 \"10s\" blogs (ages 13-17), \n",
        "\n",
        "• 8086 \"20s\" blogs(ages 23-27) and \n",
        "\n",
        "• 2994 \"30s\" blogs (ages 33-47)\n",
        " \n",
        "For each age group, there is an equal number of male and female bloggers.\n",
        "Each blog in the corpus includes at least 200 occurrences of common English words. All formatting has been stripped with two exceptions.Individual posts within a single blogger are separated by the date of the following post and links within a post are denoted by the label url link.\n",
        "\n",
        "• PROJECT OBJECTIVE: \n",
        "\n",
        "The need is to build a NLP classifier which can use input text parameters to determine the label/s of the blog.\n",
        "\n",
        " \n",
        " \n",
        "\n",
        "\n",
        "\n"
      ]
    },
    {
      "cell_type": "code",
      "metadata": {
        "colab": {
          "base_uri": "https://localhost:8080/"
        },
        "id": "NFuIokOBM6Mz",
        "outputId": "3933ee4c-a732-470a-a64d-bcf48bca7514"
      },
      "source": [
        "from google.colab import drive\n",
        "drive.mount('/content/drive')"
      ],
      "execution_count": 1,
      "outputs": [
        {
          "output_type": "stream",
          "text": [
            "Drive already mounted at /content/drive; to attempt to forcibly remount, call drive.mount(\"/content/drive\", force_remount=True).\n"
          ],
          "name": "stdout"
        }
      ]
    },
    {
      "cell_type": "code",
      "metadata": {
        "id": "U-2bXxosLdha"
      },
      "source": [
        "import numpy as np\n",
        "import re\n",
        "from matplotlib import pyplot\n",
        "%matplotlib inline\n",
        "import pandas as pd\n",
        "import warnings\n",
        "warnings.filterwarnings('ignore')\n"
      ],
      "execution_count": 2,
      "outputs": []
    },
    {
      "cell_type": "code",
      "metadata": {
        "id": "vez2wRYmQyZg"
      },
      "source": [
        "import nltk                                         #Natural language processing tool-kit\n",
        "\n",
        "from nltk.corpus import stopwords                   #Stopwords corpus\n",
        "from nltk.stem import PorterStemmer                 # Stemmer\n"
      ],
      "execution_count": 3,
      "outputs": []
    },
    {
      "cell_type": "code",
      "metadata": {
        "id": "4ulpVtlONV_m"
      },
      "source": [
        "df = pd.read_csv('/content/drive/MyDrive/AIML Google Colab/blogtext.csv')"
      ],
      "execution_count": 4,
      "outputs": []
    },
    {
      "cell_type": "code",
      "metadata": {
        "id": "3VBdZFYPPqmm"
      },
      "source": [
        "n_s = 30000\n",
        "mini_data = df.sample(n_s, axis=0, random_state=0)"
      ],
      "execution_count": 5,
      "outputs": []
    },
    {
      "cell_type": "code",
      "metadata": {
        "id": "8LS5ST8PK_rW"
      },
      "source": [
        "df1 = df.head(30000)"
      ],
      "execution_count": 6,
      "outputs": []
    },
    {
      "cell_type": "code",
      "metadata": {
        "colab": {
          "base_uri": "https://localhost:8080/",
          "height": 343
        },
        "id": "1UWuHZyRPXsp",
        "outputId": "339394b5-bc22-4982-afbe-34241e369cda"
      },
      "source": [
        "df1.head(10)"
      ],
      "execution_count": 7,
      "outputs": [
        {
          "output_type": "execute_result",
          "data": {
            "text/html": [
              "<div>\n",
              "<style scoped>\n",
              "    .dataframe tbody tr th:only-of-type {\n",
              "        vertical-align: middle;\n",
              "    }\n",
              "\n",
              "    .dataframe tbody tr th {\n",
              "        vertical-align: top;\n",
              "    }\n",
              "\n",
              "    .dataframe thead th {\n",
              "        text-align: right;\n",
              "    }\n",
              "</style>\n",
              "<table border=\"1\" class=\"dataframe\">\n",
              "  <thead>\n",
              "    <tr style=\"text-align: right;\">\n",
              "      <th></th>\n",
              "      <th>id</th>\n",
              "      <th>gender</th>\n",
              "      <th>age</th>\n",
              "      <th>topic</th>\n",
              "      <th>sign</th>\n",
              "      <th>date</th>\n",
              "      <th>text</th>\n",
              "    </tr>\n",
              "  </thead>\n",
              "  <tbody>\n",
              "    <tr>\n",
              "      <th>0</th>\n",
              "      <td>2059027</td>\n",
              "      <td>male</td>\n",
              "      <td>15</td>\n",
              "      <td>Student</td>\n",
              "      <td>Leo</td>\n",
              "      <td>14,May,2004</td>\n",
              "      <td>Info has been found (+/- 100 pages,...</td>\n",
              "    </tr>\n",
              "    <tr>\n",
              "      <th>1</th>\n",
              "      <td>2059027</td>\n",
              "      <td>male</td>\n",
              "      <td>15</td>\n",
              "      <td>Student</td>\n",
              "      <td>Leo</td>\n",
              "      <td>13,May,2004</td>\n",
              "      <td>These are the team members:   Drewe...</td>\n",
              "    </tr>\n",
              "    <tr>\n",
              "      <th>2</th>\n",
              "      <td>2059027</td>\n",
              "      <td>male</td>\n",
              "      <td>15</td>\n",
              "      <td>Student</td>\n",
              "      <td>Leo</td>\n",
              "      <td>12,May,2004</td>\n",
              "      <td>In het kader van kernfusie op aarde...</td>\n",
              "    </tr>\n",
              "    <tr>\n",
              "      <th>3</th>\n",
              "      <td>2059027</td>\n",
              "      <td>male</td>\n",
              "      <td>15</td>\n",
              "      <td>Student</td>\n",
              "      <td>Leo</td>\n",
              "      <td>12,May,2004</td>\n",
              "      <td>testing!!!  testing!!!</td>\n",
              "    </tr>\n",
              "    <tr>\n",
              "      <th>4</th>\n",
              "      <td>3581210</td>\n",
              "      <td>male</td>\n",
              "      <td>33</td>\n",
              "      <td>InvestmentBanking</td>\n",
              "      <td>Aquarius</td>\n",
              "      <td>11,June,2004</td>\n",
              "      <td>Thanks to Yahoo!'s Toolbar I can ...</td>\n",
              "    </tr>\n",
              "    <tr>\n",
              "      <th>5</th>\n",
              "      <td>3581210</td>\n",
              "      <td>male</td>\n",
              "      <td>33</td>\n",
              "      <td>InvestmentBanking</td>\n",
              "      <td>Aquarius</td>\n",
              "      <td>10,June,2004</td>\n",
              "      <td>I had an interesting conversation...</td>\n",
              "    </tr>\n",
              "    <tr>\n",
              "      <th>6</th>\n",
              "      <td>3581210</td>\n",
              "      <td>male</td>\n",
              "      <td>33</td>\n",
              "      <td>InvestmentBanking</td>\n",
              "      <td>Aquarius</td>\n",
              "      <td>10,June,2004</td>\n",
              "      <td>Somehow Coca-Cola has a way of su...</td>\n",
              "    </tr>\n",
              "    <tr>\n",
              "      <th>7</th>\n",
              "      <td>3581210</td>\n",
              "      <td>male</td>\n",
              "      <td>33</td>\n",
              "      <td>InvestmentBanking</td>\n",
              "      <td>Aquarius</td>\n",
              "      <td>10,June,2004</td>\n",
              "      <td>If anything, Korea is a country o...</td>\n",
              "    </tr>\n",
              "    <tr>\n",
              "      <th>8</th>\n",
              "      <td>3581210</td>\n",
              "      <td>male</td>\n",
              "      <td>33</td>\n",
              "      <td>InvestmentBanking</td>\n",
              "      <td>Aquarius</td>\n",
              "      <td>10,June,2004</td>\n",
              "      <td>Take a read of this news article ...</td>\n",
              "    </tr>\n",
              "    <tr>\n",
              "      <th>9</th>\n",
              "      <td>3581210</td>\n",
              "      <td>male</td>\n",
              "      <td>33</td>\n",
              "      <td>InvestmentBanking</td>\n",
              "      <td>Aquarius</td>\n",
              "      <td>09,June,2004</td>\n",
              "      <td>I surf the English news sites a l...</td>\n",
              "    </tr>\n",
              "  </tbody>\n",
              "</table>\n",
              "</div>"
            ],
            "text/plain": [
              "        id  ...                                               text\n",
              "0  2059027  ...             Info has been found (+/- 100 pages,...\n",
              "1  2059027  ...             These are the team members:   Drewe...\n",
              "2  2059027  ...             In het kader van kernfusie op aarde...\n",
              "3  2059027  ...                   testing!!!  testing!!!          \n",
              "4  3581210  ...               Thanks to Yahoo!'s Toolbar I can ...\n",
              "5  3581210  ...               I had an interesting conversation...\n",
              "6  3581210  ...               Somehow Coca-Cola has a way of su...\n",
              "7  3581210  ...               If anything, Korea is a country o...\n",
              "8  3581210  ...               Take a read of this news article ...\n",
              "9  3581210  ...               I surf the English news sites a l...\n",
              "\n",
              "[10 rows x 7 columns]"
            ]
          },
          "metadata": {
            "tags": []
          },
          "execution_count": 7
        }
      ]
    },
    {
      "cell_type": "code",
      "metadata": {
        "colab": {
          "base_uri": "https://localhost:8080/"
        },
        "id": "MLwCq0OGQ6Ep",
        "outputId": "030fc685-24ba-44b1-c422-fec86ea20d4a"
      },
      "source": [
        "df1.columns"
      ],
      "execution_count": 8,
      "outputs": [
        {
          "output_type": "execute_result",
          "data": {
            "text/plain": [
              "Index(['id', 'gender', 'age', 'topic', 'sign', 'date', 'text'], dtype='object')"
            ]
          },
          "metadata": {
            "tags": []
          },
          "execution_count": 8
        }
      ]
    },
    {
      "cell_type": "code",
      "metadata": {
        "id": "Ku8LnvJtRd_T"
      },
      "source": [
        "from string import punctuation\n",
        "from nltk.corpus import stopwords\n",
        "from nltk import word_tokenize"
      ],
      "execution_count": 9,
      "outputs": []
    },
    {
      "cell_type": "code",
      "metadata": {
        "id": "Gkazlwwxdpsz"
      },
      "source": [
        "df2 = df1.drop_duplicates(subset={\"id\",\"gender\",\"age\",\"topic\",\"sign\",\"date\",\"text\"})"
      ],
      "execution_count": 10,
      "outputs": []
    },
    {
      "cell_type": "code",
      "metadata": {
        "colab": {
          "base_uri": "https://localhost:8080/",
          "height": 343
        },
        "id": "q1WOOXYWfOg5",
        "outputId": "23751007-294b-4106-9ce2-34d415828148"
      },
      "source": [
        "df2.head(10)"
      ],
      "execution_count": 11,
      "outputs": [
        {
          "output_type": "execute_result",
          "data": {
            "text/html": [
              "<div>\n",
              "<style scoped>\n",
              "    .dataframe tbody tr th:only-of-type {\n",
              "        vertical-align: middle;\n",
              "    }\n",
              "\n",
              "    .dataframe tbody tr th {\n",
              "        vertical-align: top;\n",
              "    }\n",
              "\n",
              "    .dataframe thead th {\n",
              "        text-align: right;\n",
              "    }\n",
              "</style>\n",
              "<table border=\"1\" class=\"dataframe\">\n",
              "  <thead>\n",
              "    <tr style=\"text-align: right;\">\n",
              "      <th></th>\n",
              "      <th>id</th>\n",
              "      <th>gender</th>\n",
              "      <th>age</th>\n",
              "      <th>topic</th>\n",
              "      <th>sign</th>\n",
              "      <th>date</th>\n",
              "      <th>text</th>\n",
              "    </tr>\n",
              "  </thead>\n",
              "  <tbody>\n",
              "    <tr>\n",
              "      <th>0</th>\n",
              "      <td>2059027</td>\n",
              "      <td>male</td>\n",
              "      <td>15</td>\n",
              "      <td>Student</td>\n",
              "      <td>Leo</td>\n",
              "      <td>14,May,2004</td>\n",
              "      <td>Info has been found (+/- 100 pages,...</td>\n",
              "    </tr>\n",
              "    <tr>\n",
              "      <th>1</th>\n",
              "      <td>2059027</td>\n",
              "      <td>male</td>\n",
              "      <td>15</td>\n",
              "      <td>Student</td>\n",
              "      <td>Leo</td>\n",
              "      <td>13,May,2004</td>\n",
              "      <td>These are the team members:   Drewe...</td>\n",
              "    </tr>\n",
              "    <tr>\n",
              "      <th>2</th>\n",
              "      <td>2059027</td>\n",
              "      <td>male</td>\n",
              "      <td>15</td>\n",
              "      <td>Student</td>\n",
              "      <td>Leo</td>\n",
              "      <td>12,May,2004</td>\n",
              "      <td>In het kader van kernfusie op aarde...</td>\n",
              "    </tr>\n",
              "    <tr>\n",
              "      <th>3</th>\n",
              "      <td>2059027</td>\n",
              "      <td>male</td>\n",
              "      <td>15</td>\n",
              "      <td>Student</td>\n",
              "      <td>Leo</td>\n",
              "      <td>12,May,2004</td>\n",
              "      <td>testing!!!  testing!!!</td>\n",
              "    </tr>\n",
              "    <tr>\n",
              "      <th>4</th>\n",
              "      <td>3581210</td>\n",
              "      <td>male</td>\n",
              "      <td>33</td>\n",
              "      <td>InvestmentBanking</td>\n",
              "      <td>Aquarius</td>\n",
              "      <td>11,June,2004</td>\n",
              "      <td>Thanks to Yahoo!'s Toolbar I can ...</td>\n",
              "    </tr>\n",
              "    <tr>\n",
              "      <th>5</th>\n",
              "      <td>3581210</td>\n",
              "      <td>male</td>\n",
              "      <td>33</td>\n",
              "      <td>InvestmentBanking</td>\n",
              "      <td>Aquarius</td>\n",
              "      <td>10,June,2004</td>\n",
              "      <td>I had an interesting conversation...</td>\n",
              "    </tr>\n",
              "    <tr>\n",
              "      <th>6</th>\n",
              "      <td>3581210</td>\n",
              "      <td>male</td>\n",
              "      <td>33</td>\n",
              "      <td>InvestmentBanking</td>\n",
              "      <td>Aquarius</td>\n",
              "      <td>10,June,2004</td>\n",
              "      <td>Somehow Coca-Cola has a way of su...</td>\n",
              "    </tr>\n",
              "    <tr>\n",
              "      <th>7</th>\n",
              "      <td>3581210</td>\n",
              "      <td>male</td>\n",
              "      <td>33</td>\n",
              "      <td>InvestmentBanking</td>\n",
              "      <td>Aquarius</td>\n",
              "      <td>10,June,2004</td>\n",
              "      <td>If anything, Korea is a country o...</td>\n",
              "    </tr>\n",
              "    <tr>\n",
              "      <th>8</th>\n",
              "      <td>3581210</td>\n",
              "      <td>male</td>\n",
              "      <td>33</td>\n",
              "      <td>InvestmentBanking</td>\n",
              "      <td>Aquarius</td>\n",
              "      <td>10,June,2004</td>\n",
              "      <td>Take a read of this news article ...</td>\n",
              "    </tr>\n",
              "    <tr>\n",
              "      <th>9</th>\n",
              "      <td>3581210</td>\n",
              "      <td>male</td>\n",
              "      <td>33</td>\n",
              "      <td>InvestmentBanking</td>\n",
              "      <td>Aquarius</td>\n",
              "      <td>09,June,2004</td>\n",
              "      <td>I surf the English news sites a l...</td>\n",
              "    </tr>\n",
              "  </tbody>\n",
              "</table>\n",
              "</div>"
            ],
            "text/plain": [
              "        id  ...                                               text\n",
              "0  2059027  ...             Info has been found (+/- 100 pages,...\n",
              "1  2059027  ...             These are the team members:   Drewe...\n",
              "2  2059027  ...             In het kader van kernfusie op aarde...\n",
              "3  2059027  ...                   testing!!!  testing!!!          \n",
              "4  3581210  ...               Thanks to Yahoo!'s Toolbar I can ...\n",
              "5  3581210  ...               I had an interesting conversation...\n",
              "6  3581210  ...               Somehow Coca-Cola has a way of su...\n",
              "7  3581210  ...               If anything, Korea is a country o...\n",
              "8  3581210  ...               Take a read of this news article ...\n",
              "9  3581210  ...               I surf the English news sites a l...\n",
              "\n",
              "[10 rows x 7 columns]"
            ]
          },
          "metadata": {
            "tags": []
          },
          "execution_count": 11
        }
      ]
    },
    {
      "cell_type": "code",
      "metadata": {
        "colab": {
          "base_uri": "https://localhost:8080/"
        },
        "id": "mY0Unae6010E",
        "outputId": "4a2cd776-8e39-4603-b34e-bf28973c5762"
      },
      "source": [
        "df2.isna().any()"
      ],
      "execution_count": 12,
      "outputs": [
        {
          "output_type": "execute_result",
          "data": {
            "text/plain": [
              "id        False\n",
              "gender    False\n",
              "age       False\n",
              "topic     False\n",
              "sign      False\n",
              "date      False\n",
              "text      False\n",
              "dtype: bool"
            ]
          },
          "metadata": {
            "tags": []
          },
          "execution_count": 12
        }
      ]
    },
    {
      "cell_type": "code",
      "metadata": {
        "colab": {
          "base_uri": "https://localhost:8080/"
        },
        "id": "1XjkW4uY06Qm",
        "outputId": "c9e99936-3ceb-4bb2-8837-93c040952c5b"
      },
      "source": [
        "df2.shape\n"
      ],
      "execution_count": 13,
      "outputs": [
        {
          "output_type": "execute_result",
          "data": {
            "text/plain": [
              "(29908, 7)"
            ]
          },
          "metadata": {
            "tags": []
          },
          "execution_count": 13
        }
      ]
    },
    {
      "cell_type": "code",
      "metadata": {
        "colab": {
          "base_uri": "https://localhost:8080/"
        },
        "id": "_cMYXz_31DsC",
        "outputId": "a9609fba-5e52-457e-a138-bcc089427fef"
      },
      "source": [
        "df2.info()"
      ],
      "execution_count": 14,
      "outputs": [
        {
          "output_type": "stream",
          "text": [
            "<class 'pandas.core.frame.DataFrame'>\n",
            "Int64Index: 29908 entries, 0 to 29999\n",
            "Data columns (total 7 columns):\n",
            " #   Column  Non-Null Count  Dtype \n",
            "---  ------  --------------  ----- \n",
            " 0   id      29908 non-null  int64 \n",
            " 1   gender  29908 non-null  object\n",
            " 2   age     29908 non-null  int64 \n",
            " 3   topic   29908 non-null  object\n",
            " 4   sign    29908 non-null  object\n",
            " 5   date    29908 non-null  object\n",
            " 6   text    29908 non-null  object\n",
            "dtypes: int64(2), object(5)\n",
            "memory usage: 1.8+ MB\n"
          ],
          "name": "stdout"
        }
      ]
    },
    {
      "cell_type": "code",
      "metadata": {
        "id": "hlIbL-xG1SEP"
      },
      "source": [
        "df2.drop(['id','date'], axis=1, inplace=True)"
      ],
      "execution_count": 15,
      "outputs": []
    },
    {
      "cell_type": "code",
      "metadata": {
        "colab": {
          "base_uri": "https://localhost:8080/",
          "height": 195
        },
        "id": "lg0VygD71uD0",
        "outputId": "d6028c06-6766-4861-b3d2-80c6b3be934d"
      },
      "source": [
        "df2.head()"
      ],
      "execution_count": 16,
      "outputs": [
        {
          "output_type": "execute_result",
          "data": {
            "text/html": [
              "<div>\n",
              "<style scoped>\n",
              "    .dataframe tbody tr th:only-of-type {\n",
              "        vertical-align: middle;\n",
              "    }\n",
              "\n",
              "    .dataframe tbody tr th {\n",
              "        vertical-align: top;\n",
              "    }\n",
              "\n",
              "    .dataframe thead th {\n",
              "        text-align: right;\n",
              "    }\n",
              "</style>\n",
              "<table border=\"1\" class=\"dataframe\">\n",
              "  <thead>\n",
              "    <tr style=\"text-align: right;\">\n",
              "      <th></th>\n",
              "      <th>gender</th>\n",
              "      <th>age</th>\n",
              "      <th>topic</th>\n",
              "      <th>sign</th>\n",
              "      <th>text</th>\n",
              "    </tr>\n",
              "  </thead>\n",
              "  <tbody>\n",
              "    <tr>\n",
              "      <th>0</th>\n",
              "      <td>male</td>\n",
              "      <td>15</td>\n",
              "      <td>Student</td>\n",
              "      <td>Leo</td>\n",
              "      <td>Info has been found (+/- 100 pages,...</td>\n",
              "    </tr>\n",
              "    <tr>\n",
              "      <th>1</th>\n",
              "      <td>male</td>\n",
              "      <td>15</td>\n",
              "      <td>Student</td>\n",
              "      <td>Leo</td>\n",
              "      <td>These are the team members:   Drewe...</td>\n",
              "    </tr>\n",
              "    <tr>\n",
              "      <th>2</th>\n",
              "      <td>male</td>\n",
              "      <td>15</td>\n",
              "      <td>Student</td>\n",
              "      <td>Leo</td>\n",
              "      <td>In het kader van kernfusie op aarde...</td>\n",
              "    </tr>\n",
              "    <tr>\n",
              "      <th>3</th>\n",
              "      <td>male</td>\n",
              "      <td>15</td>\n",
              "      <td>Student</td>\n",
              "      <td>Leo</td>\n",
              "      <td>testing!!!  testing!!!</td>\n",
              "    </tr>\n",
              "    <tr>\n",
              "      <th>4</th>\n",
              "      <td>male</td>\n",
              "      <td>33</td>\n",
              "      <td>InvestmentBanking</td>\n",
              "      <td>Aquarius</td>\n",
              "      <td>Thanks to Yahoo!'s Toolbar I can ...</td>\n",
              "    </tr>\n",
              "  </tbody>\n",
              "</table>\n",
              "</div>"
            ],
            "text/plain": [
              "  gender  age  ...      sign                                               text\n",
              "0   male   15  ...       Leo             Info has been found (+/- 100 pages,...\n",
              "1   male   15  ...       Leo             These are the team members:   Drewe...\n",
              "2   male   15  ...       Leo             In het kader van kernfusie op aarde...\n",
              "3   male   15  ...       Leo                   testing!!!  testing!!!          \n",
              "4   male   33  ...  Aquarius               Thanks to Yahoo!'s Toolbar I can ...\n",
              "\n",
              "[5 rows x 5 columns]"
            ]
          },
          "metadata": {
            "tags": []
          },
          "execution_count": 16
        }
      ]
    },
    {
      "cell_type": "code",
      "metadata": {
        "id": "piqOYc0T17IJ"
      },
      "source": [
        "df2['age']=df2['age'].astype('object')\n"
      ],
      "execution_count": 17,
      "outputs": []
    },
    {
      "cell_type": "code",
      "metadata": {
        "colab": {
          "base_uri": "https://localhost:8080/"
        },
        "id": "8lN2QrRD2B9u",
        "outputId": "a348e88d-7d4b-43e2-b1c0-99f2a0da7595"
      },
      "source": [
        "df2.info()"
      ],
      "execution_count": 18,
      "outputs": [
        {
          "output_type": "stream",
          "text": [
            "<class 'pandas.core.frame.DataFrame'>\n",
            "Int64Index: 29908 entries, 0 to 29999\n",
            "Data columns (total 5 columns):\n",
            " #   Column  Non-Null Count  Dtype \n",
            "---  ------  --------------  ----- \n",
            " 0   gender  29908 non-null  object\n",
            " 1   age     29908 non-null  object\n",
            " 2   topic   29908 non-null  object\n",
            " 3   sign    29908 non-null  object\n",
            " 4   text    29908 non-null  object\n",
            "dtypes: object(5)\n",
            "memory usage: 1.4+ MB\n"
          ],
          "name": "stdout"
        }
      ]
    },
    {
      "cell_type": "code",
      "metadata": {
        "id": "fdhQbHw725ND"
      },
      "source": [
        "df2['clean_data']=df1['text'].apply(lambda x: re.sub(r'[^A-Za-z]+',' ',x))"
      ],
      "execution_count": 19,
      "outputs": []
    },
    {
      "cell_type": "code",
      "metadata": {
        "id": "Wa1RvJwz3LNa"
      },
      "source": [
        "df2['clean_data']=df2['clean_data'].apply(lambda x: x.lower())\n"
      ],
      "execution_count": 20,
      "outputs": []
    },
    {
      "cell_type": "code",
      "metadata": {
        "id": "OwIsJxXg3XQg"
      },
      "source": [
        "df2['clean_data']=df2['clean_data'].apply(lambda x: x.strip())\n"
      ],
      "execution_count": 21,
      "outputs": []
    },
    {
      "cell_type": "code",
      "metadata": {
        "colab": {
          "base_uri": "https://localhost:8080/"
        },
        "id": "pQbcWkLa3hyW",
        "outputId": "84fce829-9b73-4d00-8771-48524a54a6ca"
      },
      "source": [
        "print(\"Actual data=======> {}\".format(df1['text'][1]))\n"
      ],
      "execution_count": 22,
      "outputs": [
        {
          "output_type": "stream",
          "text": [
            "Actual data=======>            These are the team members:   Drewes van der Laag           urlLink mail  Ruiyu Xie                     urlLink mail  Bryan Aaldering (me)          urlLink mail          \n"
          ],
          "name": "stdout"
        }
      ]
    },
    {
      "cell_type": "code",
      "metadata": {
        "colab": {
          "base_uri": "https://localhost:8080/"
        },
        "id": "lUjQl13N3r0g",
        "outputId": "2c1f9715-f584-41b3-adef-fe95df536c54"
      },
      "source": [
        "print(\"Cleaned data=======> {}\".format(df2['clean_data'][1]))"
      ],
      "execution_count": 23,
      "outputs": [
        {
          "output_type": "stream",
          "text": [
            "Cleaned data=======> these are the team members drewes van der laag urllink mail ruiyu xie urllink mail bryan aaldering me urllink mail\n"
          ],
          "name": "stdout"
        }
      ]
    },
    {
      "cell_type": "code",
      "metadata": {
        "colab": {
          "base_uri": "https://localhost:8080/"
        },
        "id": "W0U2w-_o4XPq",
        "outputId": "12c39ded-325b-4d90-df6c-9087c1c6eab4"
      },
      "source": [
        "import nltk\n",
        "nltk.download('stopwords')\n"
      ],
      "execution_count": 24,
      "outputs": [
        {
          "output_type": "stream",
          "text": [
            "[nltk_data] Downloading package stopwords to /root/nltk_data...\n",
            "[nltk_data]   Package stopwords is already up-to-date!\n"
          ],
          "name": "stdout"
        },
        {
          "output_type": "execute_result",
          "data": {
            "text/plain": [
              "True"
            ]
          },
          "metadata": {
            "tags": []
          },
          "execution_count": 24
        }
      ]
    },
    {
      "cell_type": "code",
      "metadata": {
        "id": "nqOql4s135Qb"
      },
      "source": [
        "from nltk.corpus import stopwords\n",
        "stopwords=set(stopwords.words('english'))"
      ],
      "execution_count": 25,
      "outputs": []
    },
    {
      "cell_type": "code",
      "metadata": {
        "id": "fi-ZQq8x4jtP"
      },
      "source": [
        "df2['clean_data']=df2['clean_data'].apply(lambda x: ' '.join([words for words in x.split() if words not in stopwords]))"
      ],
      "execution_count": 26,
      "outputs": []
    },
    {
      "cell_type": "code",
      "metadata": {
        "colab": {
          "base_uri": "https://localhost:8080/",
          "height": 86
        },
        "id": "vx7KT7kt4vOo",
        "outputId": "079bb759-8787-4347-af07-28e538c6fb70"
      },
      "source": [
        "df2['clean_data'][6]"
      ],
      "execution_count": 27,
      "outputs": [
        {
          "output_type": "execute_result",
          "data": {
            "application/vnd.google.colaboratory.intrinsic+json": {
              "type": "string"
            },
            "text/plain": [
              "'somehow coca cola way summing things well early flagship jingle like buy world coke tune like teach world sing pretty much summed post woodstock era well add much sales catchy tune korea coke theme urllink stop thinking feel pretty much sums lot korea koreans look relaxed couple stopped thinking started feeling course high regard education math logic deep think many koreans really like work emotion anything else westerners seem sublimate moreso least display different way maybe scratch westerners koreans probably pretty similar context different anyways think losing korea repeat stop thinking feel stop thinking feel stop thinking feel everything alright'"
            ]
          },
          "metadata": {
            "tags": []
          },
          "execution_count": 27
        }
      ]
    },
    {
      "cell_type": "code",
      "metadata": {
        "id": "qxCg8-9Z447M"
      },
      "source": [
        "df2['labels']=df2.apply(lambda col: [col['gender'],str(col['age']),col['topic'],col['sign']], axis=1)"
      ],
      "execution_count": 28,
      "outputs": []
    },
    {
      "cell_type": "code",
      "metadata": {
        "colab": {
          "base_uri": "https://localhost:8080/",
          "height": 195
        },
        "id": "ct5InaqW5JP3",
        "outputId": "6656fd7d-25d3-470f-8504-e752dfe60d6f"
      },
      "source": [
        "df2.head()\n"
      ],
      "execution_count": 29,
      "outputs": [
        {
          "output_type": "execute_result",
          "data": {
            "text/html": [
              "<div>\n",
              "<style scoped>\n",
              "    .dataframe tbody tr th:only-of-type {\n",
              "        vertical-align: middle;\n",
              "    }\n",
              "\n",
              "    .dataframe tbody tr th {\n",
              "        vertical-align: top;\n",
              "    }\n",
              "\n",
              "    .dataframe thead th {\n",
              "        text-align: right;\n",
              "    }\n",
              "</style>\n",
              "<table border=\"1\" class=\"dataframe\">\n",
              "  <thead>\n",
              "    <tr style=\"text-align: right;\">\n",
              "      <th></th>\n",
              "      <th>gender</th>\n",
              "      <th>age</th>\n",
              "      <th>topic</th>\n",
              "      <th>sign</th>\n",
              "      <th>text</th>\n",
              "      <th>clean_data</th>\n",
              "      <th>labels</th>\n",
              "    </tr>\n",
              "  </thead>\n",
              "  <tbody>\n",
              "    <tr>\n",
              "      <th>0</th>\n",
              "      <td>male</td>\n",
              "      <td>15</td>\n",
              "      <td>Student</td>\n",
              "      <td>Leo</td>\n",
              "      <td>Info has been found (+/- 100 pages,...</td>\n",
              "      <td>info found pages mb pdf files wait untill team...</td>\n",
              "      <td>[male, 15, Student, Leo]</td>\n",
              "    </tr>\n",
              "    <tr>\n",
              "      <th>1</th>\n",
              "      <td>male</td>\n",
              "      <td>15</td>\n",
              "      <td>Student</td>\n",
              "      <td>Leo</td>\n",
              "      <td>These are the team members:   Drewe...</td>\n",
              "      <td>team members drewes van der laag urllink mail ...</td>\n",
              "      <td>[male, 15, Student, Leo]</td>\n",
              "    </tr>\n",
              "    <tr>\n",
              "      <th>2</th>\n",
              "      <td>male</td>\n",
              "      <td>15</td>\n",
              "      <td>Student</td>\n",
              "      <td>Leo</td>\n",
              "      <td>In het kader van kernfusie op aarde...</td>\n",
              "      <td>het kader van kernfusie op aarde maak je eigen...</td>\n",
              "      <td>[male, 15, Student, Leo]</td>\n",
              "    </tr>\n",
              "    <tr>\n",
              "      <th>3</th>\n",
              "      <td>male</td>\n",
              "      <td>15</td>\n",
              "      <td>Student</td>\n",
              "      <td>Leo</td>\n",
              "      <td>testing!!!  testing!!!</td>\n",
              "      <td>testing testing</td>\n",
              "      <td>[male, 15, Student, Leo]</td>\n",
              "    </tr>\n",
              "    <tr>\n",
              "      <th>4</th>\n",
              "      <td>male</td>\n",
              "      <td>33</td>\n",
              "      <td>InvestmentBanking</td>\n",
              "      <td>Aquarius</td>\n",
              "      <td>Thanks to Yahoo!'s Toolbar I can ...</td>\n",
              "      <td>thanks yahoo toolbar capture urls popups means...</td>\n",
              "      <td>[male, 33, InvestmentBanking, Aquarius]</td>\n",
              "    </tr>\n",
              "  </tbody>\n",
              "</table>\n",
              "</div>"
            ],
            "text/plain": [
              "  gender  ...                                   labels\n",
              "0   male  ...                 [male, 15, Student, Leo]\n",
              "1   male  ...                 [male, 15, Student, Leo]\n",
              "2   male  ...                 [male, 15, Student, Leo]\n",
              "3   male  ...                 [male, 15, Student, Leo]\n",
              "4   male  ...  [male, 33, InvestmentBanking, Aquarius]\n",
              "\n",
              "[5 rows x 7 columns]"
            ]
          },
          "metadata": {
            "tags": []
          },
          "execution_count": 29
        }
      ]
    },
    {
      "cell_type": "code",
      "metadata": {
        "id": "vhznnhNh5Twi"
      },
      "source": [
        "df2=df2[['clean_data','labels']]"
      ],
      "execution_count": 30,
      "outputs": []
    },
    {
      "cell_type": "code",
      "metadata": {
        "colab": {
          "base_uri": "https://localhost:8080/",
          "height": 195
        },
        "id": "MSZm2xrE5b46",
        "outputId": "4ff1b5da-ebf7-4d3e-83db-7aba5c8bfaf8"
      },
      "source": [
        "df2.head()"
      ],
      "execution_count": 31,
      "outputs": [
        {
          "output_type": "execute_result",
          "data": {
            "text/html": [
              "<div>\n",
              "<style scoped>\n",
              "    .dataframe tbody tr th:only-of-type {\n",
              "        vertical-align: middle;\n",
              "    }\n",
              "\n",
              "    .dataframe tbody tr th {\n",
              "        vertical-align: top;\n",
              "    }\n",
              "\n",
              "    .dataframe thead th {\n",
              "        text-align: right;\n",
              "    }\n",
              "</style>\n",
              "<table border=\"1\" class=\"dataframe\">\n",
              "  <thead>\n",
              "    <tr style=\"text-align: right;\">\n",
              "      <th></th>\n",
              "      <th>clean_data</th>\n",
              "      <th>labels</th>\n",
              "    </tr>\n",
              "  </thead>\n",
              "  <tbody>\n",
              "    <tr>\n",
              "      <th>0</th>\n",
              "      <td>info found pages mb pdf files wait untill team...</td>\n",
              "      <td>[male, 15, Student, Leo]</td>\n",
              "    </tr>\n",
              "    <tr>\n",
              "      <th>1</th>\n",
              "      <td>team members drewes van der laag urllink mail ...</td>\n",
              "      <td>[male, 15, Student, Leo]</td>\n",
              "    </tr>\n",
              "    <tr>\n",
              "      <th>2</th>\n",
              "      <td>het kader van kernfusie op aarde maak je eigen...</td>\n",
              "      <td>[male, 15, Student, Leo]</td>\n",
              "    </tr>\n",
              "    <tr>\n",
              "      <th>3</th>\n",
              "      <td>testing testing</td>\n",
              "      <td>[male, 15, Student, Leo]</td>\n",
              "    </tr>\n",
              "    <tr>\n",
              "      <th>4</th>\n",
              "      <td>thanks yahoo toolbar capture urls popups means...</td>\n",
              "      <td>[male, 33, InvestmentBanking, Aquarius]</td>\n",
              "    </tr>\n",
              "  </tbody>\n",
              "</table>\n",
              "</div>"
            ],
            "text/plain": [
              "                                          clean_data                                   labels\n",
              "0  info found pages mb pdf files wait untill team...                 [male, 15, Student, Leo]\n",
              "1  team members drewes van der laag urllink mail ...                 [male, 15, Student, Leo]\n",
              "2  het kader van kernfusie op aarde maak je eigen...                 [male, 15, Student, Leo]\n",
              "3                                    testing testing                 [male, 15, Student, Leo]\n",
              "4  thanks yahoo toolbar capture urls popups means...  [male, 33, InvestmentBanking, Aquarius]"
            ]
          },
          "metadata": {
            "tags": []
          },
          "execution_count": 31
        }
      ]
    },
    {
      "cell_type": "code",
      "metadata": {
        "id": "2dCSMi1p5vr8"
      },
      "source": [
        "X=df2['clean_data']\n",
        "y=df2['labels']\n"
      ],
      "execution_count": 32,
      "outputs": []
    },
    {
      "cell_type": "code",
      "metadata": {
        "id": "Be-_3WZj6ISK"
      },
      "source": [
        "from sklearn.feature_extraction.text import CountVectorizer"
      ],
      "execution_count": 33,
      "outputs": []
    },
    {
      "cell_type": "code",
      "metadata": {
        "id": "9yqZxpr46Rkx"
      },
      "source": [
        "vectorizer=CountVectorizer(binary=True, ngram_range=(1,2))"
      ],
      "execution_count": 34,
      "outputs": []
    },
    {
      "cell_type": "code",
      "metadata": {
        "colab": {
          "base_uri": "https://localhost:8080/"
        },
        "id": "2Ksi3TNZ6cb4",
        "outputId": "c7b9e462-e68b-45a0-c7c5-c135570b5528"
      },
      "source": [
        "X=vectorizer.fit_transform(X)\n",
        "X[1]\n"
      ],
      "execution_count": 35,
      "outputs": [
        {
          "output_type": "execute_result",
          "data": {
            "text/plain": [
              "<1x1871136 sparse matrix of type '<class 'numpy.int64'>'\n",
              "\twith 25 stored elements in Compressed Sparse Row format>"
            ]
          },
          "metadata": {
            "tags": []
          },
          "execution_count": 35
        }
      ]
    },
    {
      "cell_type": "code",
      "metadata": {
        "colab": {
          "base_uri": "https://localhost:8080/"
        },
        "id": "PinYDL4W6oR0",
        "outputId": "8a46b127-a5c8-48e8-df70-2e077933000c"
      },
      "source": [
        "vectorizer.get_feature_names()[:10]"
      ],
      "execution_count": 36,
      "outputs": [
        {
          "output_type": "execute_result",
          "data": {
            "text/plain": [
              "['aa',\n",
              " 'aa aa',\n",
              " 'aa advert',\n",
              " 'aa amazing',\n",
              " 'aa anger',\n",
              " 'aa batteries',\n",
              " 'aa class',\n",
              " 'aa compared',\n",
              " 'aa damn',\n",
              " 'aa ended']"
            ]
          },
          "metadata": {
            "tags": []
          },
          "execution_count": 36
        }
      ]
    },
    {
      "cell_type": "code",
      "metadata": {
        "id": "pJv9mG3F-Ir_"
      },
      "source": [
        "label_counts=dict()\n",
        "\n",
        "for labels in df2.labels.values:\n",
        "    for label in labels:\n",
        "        if label in label_counts:\n",
        "            label_counts[label]+=1\n",
        "        else:\n",
        "            label_counts[label]=1\n"
      ],
      "execution_count": 37,
      "outputs": []
    },
    {
      "cell_type": "code",
      "metadata": {
        "colab": {
          "base_uri": "https://localhost:8080/"
        },
        "id": "_EIkaEJn-Q5H",
        "outputId": "6fe11d37-95c3-4c43-9a98-5419512dcf09"
      },
      "source": [
        "label_counts"
      ],
      "execution_count": 38,
      "outputs": [
        {
          "output_type": "execute_result",
          "data": {
            "text/plain": [
              "{'13': 547,\n",
              " '14': 1180,\n",
              " '15': 1533,\n",
              " '16': 2776,\n",
              " '17': 2865,\n",
              " '23': 3539,\n",
              " '24': 3182,\n",
              " '25': 1368,\n",
              " '26': 1665,\n",
              " '27': 3176,\n",
              " '33': 1385,\n",
              " '34': 923,\n",
              " '35': 2545,\n",
              " '36': 1760,\n",
              " '37': 184,\n",
              " '38': 142,\n",
              " '39': 132,\n",
              " '40': 183,\n",
              " '41': 95,\n",
              " '42': 48,\n",
              " '43': 55,\n",
              " '44': 10,\n",
              " '45': 78,\n",
              " '46': 204,\n",
              " '47': 105,\n",
              " '48': 228,\n",
              " 'Accounting': 63,\n",
              " 'Advertising': 56,\n",
              " 'Agriculture': 47,\n",
              " 'Aquarius': 2852,\n",
              " 'Architecture': 52,\n",
              " 'Aries': 6825,\n",
              " 'Arts': 1119,\n",
              " 'Automotive': 116,\n",
              " 'Banking': 99,\n",
              " 'Biotech': 80,\n",
              " 'BusinessServices': 217,\n",
              " 'Cancer': 2368,\n",
              " 'Capricorn': 1376,\n",
              " 'Chemicals': 75,\n",
              " 'Communications-Media': 841,\n",
              " 'Construction': 28,\n",
              " 'Consulting': 173,\n",
              " 'Education': 1128,\n",
              " 'Engineering': 747,\n",
              " 'Fashion': 1622,\n",
              " 'Gemini': 1494,\n",
              " 'Government': 418,\n",
              " 'HumanResources': 15,\n",
              " 'Internet': 1232,\n",
              " 'InvestmentBanking': 71,\n",
              " 'Law': 56,\n",
              " 'LawEnforcement-Security': 89,\n",
              " 'Leo': 2416,\n",
              " 'Libra': 1427,\n",
              " 'Manufacturing': 211,\n",
              " 'Maritime': 54,\n",
              " 'Marketing': 354,\n",
              " 'Military': 27,\n",
              " 'Museums-Libraries': 194,\n",
              " 'Non-Profit': 274,\n",
              " 'Pisces': 2460,\n",
              " 'Publishing': 125,\n",
              " 'RealEstate': 17,\n",
              " 'Religion': 182,\n",
              " 'Sagittarius': 2996,\n",
              " 'Science': 148,\n",
              " 'Scorpio': 2225,\n",
              " 'Sports-Recreation': 120,\n",
              " 'Student': 4361,\n",
              " 'Taurus': 1967,\n",
              " 'Technology': 3259,\n",
              " 'Telecommunications': 10,\n",
              " 'Transportation': 46,\n",
              " 'Virgo': 1502,\n",
              " 'female': 14032,\n",
              " 'indUnk': 12182,\n",
              " 'male': 15876}"
            ]
          },
          "metadata": {
            "tags": []
          },
          "execution_count": 38
        }
      ]
    },
    {
      "cell_type": "code",
      "metadata": {
        "id": "Riltv4NU-Vkd"
      },
      "source": [
        "from sklearn.preprocessing import MultiLabelBinarizer\n",
        "binarizer=MultiLabelBinarizer(classes=sorted(label_counts.keys()))"
      ],
      "execution_count": 39,
      "outputs": []
    },
    {
      "cell_type": "code",
      "metadata": {
        "id": "zC1VJOiQ-eE9"
      },
      "source": [
        "y=binarizer.fit_transform(df2.labels)"
      ],
      "execution_count": 40,
      "outputs": []
    },
    {
      "cell_type": "code",
      "metadata": {
        "colab": {
          "base_uri": "https://localhost:8080/",
          "height": 485
        },
        "id": "A53NYiBaZpNm",
        "outputId": "6b441738-d6fb-4170-bfca-99ebf7d35df0"
      },
      "source": [
        "from sklearn.datasets import make_classification\n",
        "from sklearn.linear_model import LogisticRegression\n",
        "from sklearn.model_selection import train_test_split\n",
        "from sklearn.pipeline import make_pipeline\n",
        "from sklearn.preprocessing import StandardScaler\n",
        "from sklearn.pipeline import Pipeline\n",
        "from sklearn.metrics import classification_report\n",
        "from sklearn.metrics import accuracy_score, confusion_matrix\n",
        "from sklearn import metrics\n",
        "from sklearn.metrics import plot_confusion_matrix\n",
        "import matplotlib.pyplot as plt\n",
        "\n",
        "X, y = make_classification(random_state=42)\n",
        "X_train, X_test, y_train, y_test = train_test_split(X, y, test_size=0.15, random_state=42)\n",
        "\n",
        "pipe = make_pipeline(StandardScaler(), LogisticRegression())\n",
        "pipe.fit(X_train, y_train)  # apply scaling on training data\n",
        "Pipeline(steps=[('standardscaler', StandardScaler()),\n",
        "                ('logisticregression', LogisticRegression())])\n",
        "\n",
        "pipe.score(X_test, y_test)  # apply scaling on testing data, without leaking training data.\n",
        "y_pred = pipe.predict(X_test)\n",
        "\n",
        "print('accuracy %s' % accuracy_score(y_pred, y_test))\n",
        "print(classification_report(y_test, y_pred))\n",
        "\n",
        "a = y_test[:5]\n",
        "b = y_pred[:5]\n",
        "\n",
        "print('confusion matrix %s' %metrics.confusion_matrix(a,b))\n",
        "plot_confusion_matrix(pipe, X_test, y_test)  \n",
        "plt.show() "
      ],
      "execution_count": 41,
      "outputs": [
        {
          "output_type": "stream",
          "text": [
            "accuracy 0.8666666666666667\n",
            "              precision    recall  f1-score   support\n",
            "\n",
            "           0       0.89      0.89      0.89         9\n",
            "           1       0.83      0.83      0.83         6\n",
            "\n",
            "    accuracy                           0.87        15\n",
            "   macro avg       0.86      0.86      0.86        15\n",
            "weighted avg       0.87      0.87      0.87        15\n",
            "\n",
            "confusion matrix [[2 0]\n",
            " [0 3]]\n"
          ],
          "name": "stdout"
        },
        {
          "output_type": "display_data",
          "data": {
            "image/png": "[encoded data removed]",
            "text/plain": [
              "<Figure size 432x288 with 2 Axes>"
            ]
          },
          "metadata": {
            "tags": [],
            "needs_background": "light"
          }
        }
      ]
    },
    {
      "cell_type": "code",
      "metadata": {
        "colab": {
          "base_uri": "https://localhost:8080/",
          "height": 485
        },
        "id": "bdzEy4xawUCE",
        "outputId": "97511ba2-79cf-4a41-886f-167450b2127e"
      },
      "source": [
        "from sklearn.datasets import make_classification\n",
        "from sklearn.linear_model import SGDClassifier\n",
        "from sklearn.model_selection import train_test_split\n",
        "from sklearn.pipeline import make_pipeline\n",
        "from sklearn.preprocessing import StandardScaler\n",
        "from sklearn.pipeline import Pipeline\n",
        "from sklearn.metrics import classification_report\n",
        "from sklearn.metrics import accuracy_score, confusion_matrix\n",
        "from sklearn.metrics import plot_confusion_matrix\n",
        "import matplotlib.pyplot as plt\n",
        "\n",
        "X, y = make_classification(random_state=42)\n",
        "X_train, X_test, y_train, y_test = train_test_split(X, y, test_size=0.15, random_state=42)\n",
        "\n",
        "pipe = make_pipeline(StandardScaler(), SGDClassifier())\n",
        "pipe.fit(X_train, y_train)  # apply scaling on training data\n",
        "Pipeline(steps=[('standardscaler', StandardScaler()),\n",
        "                ('sgdclassifier', SGDClassifier())])\n",
        "\n",
        "pipe.score(X_test, y_test)  # apply scaling on testing data, without leaking training data.\n",
        "y_pred = pipe.predict(X_test)\n",
        "\n",
        "print('accuracy %s' % accuracy_score(y_pred, y_test))\n",
        "print(classification_report(y_test, y_pred))\n",
        "\n",
        "a = y_test[:5]\n",
        "b = y_pred[:5]\n",
        "\n",
        "print('confusion matrix %s' %metrics.confusion_matrix(a,b))\n",
        "plot_confusion_matrix(pipe, X_test, y_test)  \n",
        "plt.show() "
      ],
      "execution_count": 42,
      "outputs": [
        {
          "output_type": "stream",
          "text": [
            "accuracy 0.9333333333333333\n",
            "              precision    recall  f1-score   support\n",
            "\n",
            "           0       0.90      1.00      0.95         9\n",
            "           1       1.00      0.83      0.91         6\n",
            "\n",
            "    accuracy                           0.93        15\n",
            "   macro avg       0.95      0.92      0.93        15\n",
            "weighted avg       0.94      0.93      0.93        15\n",
            "\n",
            "confusion matrix [[2 0]\n",
            " [0 3]]\n"
          ],
          "name": "stdout"
        },
        {
          "output_type": "display_data",
          "data": {
            "image/png": "[encoded data removed]",
            "text/plain": [
              "<Figure size 432x288 with 2 Axes>"
            ]
          },
          "metadata": {
            "tags": [],
            "needs_background": "light"
          }
        }
      ]
    },
    {
      "cell_type": "code",
      "metadata": {
        "colab": {
          "base_uri": "https://localhost:8080/",
          "height": 485
        },
        "id": "kx0iar6R4VK3",
        "outputId": "55a60b55-83b1-40a1-c551-92f8a6fb16bf"
      },
      "source": [
        "from sklearn.naive_bayes import MultinomialNB\n",
        "from sklearn.pipeline import Pipeline\n",
        "from sklearn.feature_extraction.text import TfidfTransformer\n",
        "from sklearn.datasets import make_classification\n",
        "from sklearn.model_selection import train_test_split\n",
        "from sklearn.pipeline import make_pipeline\n",
        "from sklearn.preprocessing import MinMaxScaler\n",
        "from sklearn.metrics import classification_report\n",
        "from sklearn.metrics import accuracy_score, confusion_matrix\n",
        "from sklearn.metrics import plot_confusion_matrix\n",
        "import matplotlib.pyplot as plt\n",
        "\n",
        "X, y = make_classification(random_state=42)\n",
        "X_train, X_test, y_train, y_test = train_test_split(X, y, test_size=0.15, random_state=42)\n",
        "\n",
        "pipe = make_pipeline(MinMaxScaler(), MultinomialNB())\n",
        "\n",
        "#pipe = Pipeline([('vect', CountVectorizer()),\n",
        "               #('tfidf', TfidfTransformer()),\n",
        "               #('clf', MultinomialNB()),\n",
        "              #])\n",
        "pipe.fit(X_train, y_train)\n",
        "Pipeline(steps=[('minmaxscaler', MinMaxScaler()),\n",
        "                ('multinomialnb', MultinomialNB())])\n",
        "\n",
        "pipe.score(X_test, y_test)  # apply scaling on testing data, without leaking training data.\n",
        "\n",
        "y_pred = pipe.predict(X_test)\n",
        "\n",
        "print('accuracy %s' % accuracy_score(y_pred, y_test))\n",
        "print(classification_report(y_test, y_pred))\n",
        "\n",
        "a = y_test[:5]\n",
        "b = y_pred[:5]\n",
        "\n",
        "print('confusion matrix %s' %metrics.confusion_matrix(a,b))\n",
        "plot_confusion_matrix(pipe, X_test, y_test)  \n",
        "plt.show() "
      ],
      "execution_count": 43,
      "outputs": [
        {
          "output_type": "stream",
          "text": [
            "accuracy 0.8666666666666667\n",
            "              precision    recall  f1-score   support\n",
            "\n",
            "           0       1.00      0.78      0.88         9\n",
            "           1       0.75      1.00      0.86         6\n",
            "\n",
            "    accuracy                           0.87        15\n",
            "   macro avg       0.88      0.89      0.87        15\n",
            "weighted avg       0.90      0.87      0.87        15\n",
            "\n",
            "confusion matrix [[2 0]\n",
            " [0 3]]\n"
          ],
          "name": "stdout"
        },
        {
          "output_type": "display_data",
          "data": {
            "image/png": "[encoded data removed]",
            "text/plain": [
              "<Figure size 432x288 with 2 Axes>"
            ]
          },
          "metadata": {
            "tags": [],
            "needs_background": "light"
          }
        }
      ]
    },
    {
      "cell_type": "code",
      "metadata": {
        "colab": {
          "base_uri": "https://localhost:8080/",
          "height": 485
        },
        "id": "q0tdfCaHYb9E",
        "outputId": "692887ea-cae7-42eb-aee9-9ae903ff6b34"
      },
      "source": [
        "import matplotlib.pyplot as plt  \n",
        "from sklearn.datasets import make_classification\n",
        "from sklearn.metrics import plot_confusion_matrix\n",
        "from sklearn.model_selection import train_test_split\n",
        "from sklearn.svm import SVC\n",
        "import matplotlib.pyplot as plt\n",
        "\n",
        "X, y = make_classification(random_state=0)\n",
        "X_train, X_test, y_train, y_test = train_test_split(X, y, test_size=0.15, random_state=0)\n",
        "clf = SVC(random_state=0)\n",
        "clf.fit(X_train, y_train)\n",
        "SVC(random_state=0)\n",
        "clf.score(X_test, y_test)  # apply scaling on testing data, without leaking training data.\n",
        "y_pred = pipe.predict(X_test)\n",
        "print('accuracy %s' % accuracy_score(y_pred, y_test))\n",
        "print(classification_report(y_test, y_pred))\n",
        "a = y_test[:5]\n",
        "b = y_pred[:5]\n",
        "print('confusion matrix %s' %metrics.confusion_matrix(a,b))\n",
        "plot_confusion_matrix(clf, X_test, y_test)  \n",
        "plt.show() "
      ],
      "execution_count": 44,
      "outputs": [
        {
          "output_type": "stream",
          "text": [
            "accuracy 0.7333333333333333\n",
            "              precision    recall  f1-score   support\n",
            "\n",
            "           0       0.71      0.71      0.71         7\n",
            "           1       0.75      0.75      0.75         8\n",
            "\n",
            "    accuracy                           0.73        15\n",
            "   macro avg       0.73      0.73      0.73        15\n",
            "weighted avg       0.73      0.73      0.73        15\n",
            "\n",
            "confusion matrix [[2 0]\n",
            " [1 2]]\n"
          ],
          "name": "stdout"
        },
        {
          "output_type": "display_data",
          "data": {
            "image/png": "[encoded data removed]",
            "text/plain": [
              "<Figure size 432x288 with 2 Axes>"
            ]
          },
          "metadata": {
            "tags": [],
            "needs_background": "light"
          }
        }
      ]
    },
    {
      "cell_type": "markdown",
      "metadata": {
        "id": "TtTBUu6z_dU5"
      },
      "source": [
        "# Summary\n",
        "### SGD Classifier gives the highest accuracy\n",
        "### SGD classifier gives the highest Recall = 1. It means predicts more true positve labels. \n",
        "### SGD classifer gives Precision = 0.90. It means 90% of predicted values are true.\n",
        "### SGD classifer gives F1 score for 0 = 0.95 and 1 - 0.91 which is the highest as compare to other models.\n",
        "\n",
        "## Finally SGD classifier is the best model."
      ]
    },
    {
      "cell_type": "code",
      "metadata": {
        "colab": {
          "base_uri": "https://localhost:8080/"
        },
        "id": "HsA-xYk0kCHN",
        "outputId": "6ab80af6-7411-4977-e50c-13cde757fd5f"
      },
      "source": [
        "!pip install nbconvert\n"
      ],
      "execution_count": 45,
      "outputs": [
        {
          "output_type": "stream",
          "text": [
            "Requirement already satisfied: nbconvert in /usr/local/lib/python3.7/dist-packages (5.6.1)\n",
            "Requirement already satisfied: traitlets>=4.2 in /usr/local/lib/python3.7/dist-packages (from nbconvert) (5.0.5)\n",
            "Requirement already satisfied: defusedxml in /usr/local/lib/python3.7/dist-packages (from nbconvert) (0.7.1)\n",
            "Requirement already satisfied: pandocfilters>=1.4.1 in /usr/local/lib/python3.7/dist-packages (from nbconvert) (1.4.3)\n",
            "Requirement already satisfied: jupyter-core in /usr/local/lib/python3.7/dist-packages (from nbconvert) (4.7.1)\n",
            "Requirement already satisfied: entrypoints>=0.2.2 in /usr/local/lib/python3.7/dist-packages (from nbconvert) (0.3)\n",
            "Requirement already satisfied: pygments in /usr/local/lib/python3.7/dist-packages (from nbconvert) (2.6.1)\n",
            "Requirement already satisfied: testpath in /usr/local/lib/python3.7/dist-packages (from nbconvert) (0.4.4)\n",
            "Requirement already satisfied: nbformat>=4.4 in /usr/local/lib/python3.7/dist-packages (from nbconvert) (5.1.3)\n",
            "Requirement already satisfied: mistune<2,>=0.8.1 in /usr/local/lib/python3.7/dist-packages (from nbconvert) (0.8.4)\n",
            "Requirement already satisfied: bleach in /usr/local/lib/python3.7/dist-packages (from nbconvert) (3.3.0)\n",
            "Requirement already satisfied: jinja2>=2.4 in /usr/local/lib/python3.7/dist-packages (from nbconvert) (2.11.3)\n",
            "Requirement already satisfied: ipython-genutils in /usr/local/lib/python3.7/dist-packages (from traitlets>=4.2->nbconvert) (0.2.0)\n",
            "Requirement already satisfied: jsonschema!=2.5.0,>=2.4 in /usr/local/lib/python3.7/dist-packages (from nbformat>=4.4->nbconvert) (2.6.0)\n",
            "Requirement already satisfied: six>=1.9.0 in /usr/local/lib/python3.7/dist-packages (from bleach->nbconvert) (1.15.0)\n",
            "Requirement already satisfied: packaging in /usr/local/lib/python3.7/dist-packages (from bleach->nbconvert) (20.9)\n",
            "Requirement already satisfied: webencodings in /usr/local/lib/python3.7/dist-packages (from bleach->nbconvert) (0.5.1)\n",
            "Requirement already satisfied: MarkupSafe>=0.23 in /usr/local/lib/python3.7/dist-packages (from jinja2>=2.4->nbconvert) (1.1.1)\n",
            "Requirement already satisfied: pyparsing>=2.0.2 in /usr/local/lib/python3.7/dist-packages (from packaging->bleach->nbconvert) (2.4.7)\n"
          ],
          "name": "stdout"
        }
      ]
    },
    {
      "cell_type": "code",
      "metadata": {
        "colab": {
          "base_uri": "https://localhost:8080/"
        },
        "id": "2jodwbC2kL--",
        "outputId": "3f9309dc-1050-4492-e10a-2d8fc34d347c"
      },
      "source": [
        "!jupyter nbconvert to html Project_1_NLP_part_1.ipynb"
      ],
      "execution_count": 46,
      "outputs": [
        {
          "output_type": "stream",
          "text": [
            "[NbConvertApp] WARNING | pattern u'to' matched no files\n",
            "[NbConvertApp] WARNING | pattern u'html' matched no files\n",
            "[NbConvertApp] WARNING | pattern u'Project_1_NLP_part_1.ipynb' matched no files\n",
            "This application is used to convert notebook files (*.ipynb) to various other\n",
            "formats.\n",
            "\n",
            "WARNING: THE COMMANDLINE INTERFACE MAY CHANGE IN FUTURE RELEASES.\n",
            "\n",
            "Options\n",
            "-------\n",
            "\n",
            "Arguments that take values are actually convenience aliases to full\n",
            "Configurables, whose aliases are listed on the help line. For more information\n",
            "on full configurables, see '--help-all'.\n",
            "\n",
            "--execute\n",
            "    Execute the notebook prior to export.\n",
            "--allow-errors\n",
            "    Continue notebook execution even if one of the cells throws an error and include the error message in the cell output (the default behaviour is to abort conversion). This flag is only relevant if '--execute' was specified, too.\n",
            "--no-input\n",
            "    Exclude input cells and output prompts from converted document. \n",
            "    This mode is ideal for generating code-free reports.\n",
            "--stdout\n",
            "    Write notebook output to stdout instead of files.\n",
            "--stdin\n",
            "    read a single notebook file from stdin. Write the resulting notebook with default basename 'notebook.*'\n",
            "--inplace\n",
            "    Run nbconvert in place, overwriting the existing notebook (only \n",
            "    relevant when converting to notebook format)\n",
            "-y\n",
            "    Answer yes to any questions instead of prompting.\n",
            "--clear-output\n",
            "    Clear output of current file and save in place, \n",
            "    overwriting the existing notebook.\n",
            "--debug\n",
            "    set log level to logging.DEBUG (maximize logging output)\n",
            "--no-prompt\n",
            "    Exclude input and output prompts from converted document.\n",
            "--generate-config\n",
            "    generate default config file\n",
            "--nbformat=<Enum> (NotebookExporter.nbformat_version)\n",
            "    Default: 4\n",
            "    Choices: [1, 2, 3, 4]\n",
            "    The nbformat version to write. Use this to downgrade notebooks.\n",
            "--output-dir=<Unicode> (FilesWriter.build_directory)\n",
            "    Default: ''\n",
            "    Directory to write output(s) to. Defaults to output to the directory of each\n",
            "    notebook. To recover previous default behaviour (outputting to the current\n",
            "    working directory) use . as the flag value.\n",
            "--writer=<DottedObjectName> (NbConvertApp.writer_class)\n",
            "    Default: 'FilesWriter'\n",
            "    Writer class used to write the  results of the conversion\n",
            "--log-level=<Enum> (Application.log_level)\n",
            "    Default: 30\n",
            "    Choices: (0, 10, 20, 30, 40, 50, 'DEBUG', 'INFO', 'WARN', 'ERROR', 'CRITICAL')\n",
            "    Set the log level by value or name.\n",
            "--reveal-prefix=<Unicode> (SlidesExporter.reveal_url_prefix)\n",
            "    Default: u''\n",
            "    The URL prefix for reveal.js (version 3.x). This defaults to the reveal CDN,\n",
            "    but can be any url pointing to a copy  of reveal.js.\n",
            "    For speaker notes to work, this must be a relative path to a local  copy of\n",
            "    reveal.js: e.g., \"reveal.js\".\n",
            "    If a relative path is given, it must be a subdirectory of the current\n",
            "    directory (from which the server is run).\n",
            "    See the usage documentation\n",
            "    (https://nbconvert.readthedocs.io/en/latest/usage.html#reveal-js-html-\n",
            "    slideshow) for more details.\n",
            "--to=<Unicode> (NbConvertApp.export_format)\n",
            "    Default: 'html'\n",
            "    The export format to be used, either one of the built-in formats\n",
            "    ['asciidoc', 'custom', 'html', 'latex', 'markdown', 'notebook', 'pdf',\n",
            "    'python', 'rst', 'script', 'slides'] or a dotted object name that represents\n",
            "    the import path for an `Exporter` class\n",
            "--template=<Unicode> (TemplateExporter.template_file)\n",
            "    Default: u''\n",
            "    Name of the template file to use\n",
            "--output=<Unicode> (NbConvertApp.output_base)\n",
            "    Default: ''\n",
            "    overwrite base name use for output files. can only be used when converting\n",
            "    one notebook at a time.\n",
            "--post=<DottedOrNone> (NbConvertApp.postprocessor_class)\n",
            "    Default: u''\n",
            "    PostProcessor class used to write the results of the conversion\n",
            "--config=<Unicode> (JupyterApp.config_file)\n",
            "    Default: u''\n",
            "    Full path of a config file.\n",
            "\n",
            "To see all available configurables, use `--help-all`\n",
            "\n",
            "Examples\n",
            "--------\n",
            "\n",
            "    The simplest way to use nbconvert is\n",
            "    \n",
            "    > jupyter nbconvert mynotebook.ipynb\n",
            "    \n",
            "    which will convert mynotebook.ipynb to the default format (probably HTML).\n",
            "    \n",
            "    You can specify the export format with `--to`.\n",
            "    Options include ['asciidoc', 'custom', 'html', 'latex', 'markdown', 'notebook', 'pdf', 'python', 'rst', 'script', 'slides'].\n",
            "    \n",
            "    > jupyter nbconvert --to latex mynotebook.ipynb\n",
            "    \n",
            "    Both HTML and LaTeX support multiple output templates. LaTeX includes\n",
            "    'base', 'article' and 'report'.  HTML includes 'basic' and 'full'. You\n",
            "    can specify the flavor of the format used.\n",
            "    \n",
            "    > jupyter nbconvert --to html --template basic mynotebook.ipynb\n",
            "    \n",
            "    You can also pipe the output to stdout, rather than a file\n",
            "    \n",
            "    > jupyter nbconvert mynotebook.ipynb --stdout\n",
            "    \n",
            "    PDF is generated via latex\n",
            "    \n",
            "    > jupyter nbconvert mynotebook.ipynb --to pdf\n",
            "    \n",
            "    You can get (and serve) a Reveal.js-powered slideshow\n",
            "    \n",
            "    > jupyter nbconvert myslides.ipynb --to slides --post serve\n",
            "    \n",
            "    Multiple notebooks can be given at the command line in a couple of \n",
            "    different ways:\n",
            "    \n",
            "    > jupyter nbconvert notebook*.ipynb\n",
            "    > jupyter nbconvert notebook1.ipynb notebook2.ipynb\n",
            "    \n",
            "    or you can specify the notebooks list in a config file, containing::\n",
            "    \n",
            "        c.NbConvertApp.notebooks = [\"my_notebook.ipynb\"]\n",
            "    \n",
            "    > jupyter nbconvert --config mycfg.py\n",
            "\n"
          ],
          "name": "stdout"
        }
      ]
    }
  ]
}